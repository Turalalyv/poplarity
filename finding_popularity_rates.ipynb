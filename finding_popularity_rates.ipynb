{
 "cells": [
  {
   "cell_type": "code",
   "execution_count": 1,
   "metadata": {},
   "outputs": [],
   "source": [
    "import pandas as pd\n",
    "import db4\n"
   ]
  },
  {
   "cell_type": "code",
   "execution_count": 2,
   "metadata": {},
   "outputs": [],
   "source": [
    "query=\"select * from program_rates\"\n",
    "\n",
    "df=db4.select(query)"
   ]
  },
  {
   "cell_type": "code",
   "execution_count": null,
   "metadata": {},
   "outputs": [
    {
     "data": {
      "text/plain": [
       "[RealDictRow([('id', 1),\n",
       "              ('program_id', None),\n",
       "              ('schedule_id', 2),\n",
       "              ('rate_date', None),\n",
       "              ('youtube_rate', None),\n",
       "              ('tiktok_rate', None),\n",
       "              ('youtube_views', 10730),\n",
       "              ('youtube_likes', 226),\n",
       "              ('youtube_comments', 62)]),\n",
       " RealDictRow([('id', 2),\n",
       "              ('program_id', None),\n",
       "              ('schedule_id', 3),\n",
       "              ('rate_date', None),\n",
       "              ('youtube_rate', None),\n",
       "              ('tiktok_rate', None),\n",
       "              ('youtube_views', 18955),\n",
       "              ('youtube_likes', 267),\n",
       "              ('youtube_comments', 29)]),\n",
       " RealDictRow([('id', 3),\n",
       "              ('program_id', None),\n",
       "              ('schedule_id', 4),\n",
       "              ('rate_date', None),\n",
       "              ('youtube_rate', None),\n",
       "              ('tiktok_rate', None),\n",
       "              ('youtube_views', 5713),\n",
       "              ('youtube_likes', 60),\n",
       "              ('youtube_comments', 8)]),\n",
       " RealDictRow([('id', 4),\n",
       "              ('program_id', None),\n",
       "              ('schedule_id', 5),\n",
       "              ('rate_date', None),\n",
       "              ('youtube_rate', None),\n",
       "              ('tiktok_rate', None),\n",
       "              ('youtube_views', 3276),\n",
       "              ('youtube_likes', 58),\n",
       "              ('youtube_comments', 17)]),\n",
       " RealDictRow([('id', 5),\n",
       "              ('program_id', None),\n",
       "              ('schedule_id', 1),\n",
       "              ('rate_date', None),\n",
       "              ('youtube_rate', None),\n",
       "              ('tiktok_rate', None),\n",
       "              ('youtube_views', 1156),\n",
       "              ('youtube_likes', 12),\n",
       "              ('youtube_comments', 3)]),\n",
       " RealDictRow([('id', 6),\n",
       "              ('program_id', None),\n",
       "              ('schedule_id', 6),\n",
       "              ('rate_date', None),\n",
       "              ('youtube_rate', None),\n",
       "              ('tiktok_rate', None),\n",
       "              ('youtube_views', 12237),\n",
       "              ('youtube_likes', 100),\n",
       "              ('youtube_comments', 8)]),\n",
       " RealDictRow([('id', 7),\n",
       "              ('program_id', None),\n",
       "              ('schedule_id', 7),\n",
       "              ('rate_date', None),\n",
       "              ('youtube_rate', None),\n",
       "              ('tiktok_rate', None),\n",
       "              ('youtube_views', 40550),\n",
       "              ('youtube_likes', 397),\n",
       "              ('youtube_comments', 72)]),\n",
       " RealDictRow([('id', 8),\n",
       "              ('program_id', None),\n",
       "              ('schedule_id', 8),\n",
       "              ('rate_date', None),\n",
       "              ('youtube_rate', None),\n",
       "              ('tiktok_rate', None),\n",
       "              ('youtube_views', 381333),\n",
       "              ('youtube_likes', 3654),\n",
       "              ('youtube_comments', 155)]),\n",
       " RealDictRow([('id', 9),\n",
       "              ('program_id', None),\n",
       "              ('schedule_id', 9),\n",
       "              ('rate_date', None),\n",
       "              ('youtube_rate', None),\n",
       "              ('tiktok_rate', None),\n",
       "              ('youtube_views', 2800),\n",
       "              ('youtube_likes', 87),\n",
       "              ('youtube_comments', 16)]),\n",
       " RealDictRow([('id', 10),\n",
       "              ('program_id', None),\n",
       "              ('schedule_id', 10),\n",
       "              ('rate_date', None),\n",
       "              ('youtube_rate', None),\n",
       "              ('tiktok_rate', None),\n",
       "              ('youtube_views', 57694),\n",
       "              ('youtube_likes', 770),\n",
       "              ('youtube_comments', 76)]),\n",
       " RealDictRow([('id', 11),\n",
       "              ('program_id', None),\n",
       "              ('schedule_id', 11),\n",
       "              ('rate_date', None),\n",
       "              ('youtube_rate', None),\n",
       "              ('tiktok_rate', None),\n",
       "              ('youtube_views', 616770),\n",
       "              ('youtube_likes', 7885),\n",
       "              ('youtube_comments', 547)])]"
      ]
     },
     "execution_count": 4,
     "metadata": {},
     "output_type": "execute_result"
    }
   ],
   "source": [
    "df=pd.DataFrame(df)[['id','schedule_id','yotube_rate','rate_date','']]"
   ]
  },
  {
   "cell_type": "code",
   "execution_count": null,
   "metadata": {},
   "outputs": [],
   "source": []
  }
 ],
 "metadata": {
  "kernelspec": {
   "display_name": "base",
   "language": "python",
   "name": "python3"
  },
  "language_info": {
   "codemirror_mode": {
    "name": "ipython",
    "version": 3
   },
   "file_extension": ".py",
   "mimetype": "text/x-python",
   "name": "python",
   "nbconvert_exporter": "python",
   "pygments_lexer": "ipython3",
   "version": "3.12.4"
  }
 },
 "nbformat": 4,
 "nbformat_minor": 2
}
