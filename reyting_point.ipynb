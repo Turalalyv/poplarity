{
 "cells": [
  {
   "cell_type": "code",
   "execution_count": 7,
   "metadata": {},
   "outputs": [],
   "source": [
    "import db4\n",
    "import pandas as pd\n"
   ]
  },
  {
   "cell_type": "code",
   "execution_count": 10,
   "metadata": {},
   "outputs": [
    {
     "name": "stdout",
     "output_type": "stream",
     "text": [
      "Connection to the PostgreSQL database\n",
      "id 5 rate updated\n"
     ]
    }
   ],
   "source": [
    "start_datetime = '2024-11-23 10:00'\n",
    "end_datetime = '2024-11-25 10:00'\n",
    "\n",
    "\n",
    "def assess_youtube_popularity(df):\n",
    "    if not all(col in df.columns for col in ['youtube_views', 'youtube_likes', 'youtube_comments']):\n",
    "        raise ValueError(\"DataFrame must contain 'youtube_views', 'youtube_likes', and 'youtube_comments' columns.\")\n",
    "\n",
    "    popularity_score = (\n",
    "        0.6 * df['youtube_views'] +\n",
    "        0.4 * df['youtube_likes'] +\n",
    "        0.2 * df['youtube_comments']\n",
    "    ) / 1000\n",
    "\n",
    "    return popularity_score\n",
    "\n",
    "def youtube_rates():\n",
    "    query = f\"\"\"\n",
    "    select * from program_rates where youtube_rate is null\n",
    "    \"\"\"\n",
    "    df=pd.DataFrame(db4.select(query))\n",
    "    \n",
    "    updated_rows={}\n",
    "\n",
    "    if df.empty:\n",
    "        print(\"All rates are proper or check your database\")\n",
    "        \n",
    "        return updated_rows\n",
    "    else:\n",
    "        \n",
    "        df['youtube_rate'] = assess_youtube_popularity(df)\n",
    "\n",
    "        for _, row in df.iterrows():\n",
    "            \n",
    "            id = row['id']\n",
    "            rate = row['youtube_rate']\n",
    "            updated_rows[id]=rate\n",
    "            update_query = \"UPDATE program_rates SET youtube_rate = %s WHERE id = %s\"\n",
    "            try:\n",
    "                db4.insert(update_query, (rate, id))\n",
    "                print(f\"id {id} rate updated\")\n",
    "            except Exception as e:\n",
    "                print(f\"Error updating records: {e} in {id}\")             \n",
    "        return updated_rows\n",
    "\n",
    "updated_rows=youtube_rates()\n",
    "\n"
   ]
  },
  {
   "cell_type": "code",
   "execution_count": 78,
   "metadata": {},
   "outputs": [
    {
     "name": "stdout",
     "output_type": "stream",
     "text": [
      "Connection to the PostgreSQL database\n",
      "Connection to the PostgreSQL database\n",
      "Connection to the PostgreSQL database\n",
      "Connection to the PostgreSQL database\n",
      "Connection to the PostgreSQL database\n",
      "Connection to the PostgreSQL database\n",
      "Connection to the PostgreSQL database\n"
     ]
    }
   ],
   "source": [
    "query = \"INSERT INTO stream_scraping_ids (id, stream_id, stream_name) VALUES (%s, %s, %s)\"\n",
    "\n",
    "for _, row in streams.iterrows():\n",
    "    stream_id = row['id']      \n",
    "    stream_name = row['full_name']  \n",
    "    sds_id = row['sds']     \n",
    "    db4.insert(query, (sds_id, stream_id, stream_name))"
   ]
  }
 ],
 "metadata": {
  "kernelspec": {
   "display_name": "base",
   "language": "python",
   "name": "python3"
  },
  "language_info": {
   "codemirror_mode": {
    "name": "ipython",
    "version": 3
   },
   "file_extension": ".py",
   "mimetype": "text/x-python",
   "name": "python",
   "nbconvert_exporter": "python",
   "pygments_lexer": "ipython3",
   "version": "3.12.4"
  }
 },
 "nbformat": 4,
 "nbformat_minor": 2
}
