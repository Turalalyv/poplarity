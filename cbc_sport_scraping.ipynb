{
 "cells": [
  {
   "cell_type": "code",
   "execution_count": null,
   "metadata": {},
   "outputs": [],
   "source": [
    "from lxml import html\n",
    "import requests\n",
    "\n",
    "stream_id='36'\n",
    "url = \"https://www.cbcsport.az/\"\n",
    "response = requests.get(url)\n",
    "response.raise_for_status()\n",
    "page_content = response.content\n",
    "tree = html.fromstring(page_content)\n",
    "elements = tree.xpath(\"(//div[contains(@class, 'swiper-slide')][1]//ul/li)\")\n",
    "\n",
    "programs={}\n",
    "for li in elements:\n",
    "    time_element = li.xpath(\".//span[contains(@class, 'd-flex align-items-center')]/text()\")\n",
    "    time = time_element[0].strip() if time_element else \"No time found\"\n",
    "    content_element = li.xpath(\".//p/text()\")\n",
    "    content = content_element[0].strip() if content_element else \"No content found\"\n",
    "    # print(f\"Time: {time}, Content: {content}\")\n",
    "    programs[time]=content\n",
    "daily_programs[stream_id]=programs"
   ]
  },
  {
   "cell_type": "code",
   "execution_count": null,
   "metadata": {},
   "outputs": [],
   "source": []
  },
  {
   "cell_type": "code",
   "execution_count": 18,
   "metadata": {},
   "outputs": [
    {
     "data": {
      "text/plain": [
       "{'36': {'02:00': 'İtaliya A Seriyası, 14-cü tur: Udineze – Cenoa',\n",
       "  '05:00': 'İtaliya A Seriyası, 14-cü tur: Fiorentina – İnter',\n",
       "  '09:30': 'CBC Sport İnfo (canlı)',\n",
       "  '10:00': 'Ay həkim (premyera)',\n",
       "  '12:00': 'CBC Sport İnfo (canlı)',\n",
       "  '12:30': 'Start (canlı)',\n",
       "  '13:30': 'İtaliya A Seriyası, 14-cü turun oyunlarının icmalı (yeni)',\n",
       "  '14:30': 'CBC Sport İnfo (canlı)',\n",
       "  '15:00': 'Futbol, Azərbaycan Kuboku, 1/8 final. Qaradağ Lökbatan – Səbail (canlı)',\n",
       "  '17:00': 'CBC Sport İnfo (canlı)',\n",
       "  '18:00': 'Futbol, Azərbaycan Kuboku, 1/8 final. Turan Tovuz – Sabah (canlı)',\n",
       "  '20:00': 'Misli vaxtı (yeni)',\n",
       "  '20:15': 'Misli Premyer Liqasının icmalı',\n",
       "  '21:15': 'İtaliya A Seriyası, 14-cü turun oyunlarının icmalı',\n",
       "  '23:45': 'Futbol, Azərbaycan Kuboku, 1/8 final. Qaradağ Lökbatan – Səbail'}}"
      ]
     },
     "execution_count": 18,
     "metadata": {},
     "output_type": "execute_result"
    }
   ],
   "source": [
    "daily_programs"
   ]
  },
  {
   "cell_type": "code",
   "execution_count": 20,
   "metadata": {},
   "outputs": [],
   "source": [
    "def clean_dict(dict):\n",
    "    for key, value in dict.items():\n",
    "        cleaned_value = value.split('.', 1)[0].strip()  \n",
    "        cleaned_value = ' '.join(cleaned_value.split())  \n",
    "        dict[key] = cleaned_value\n",
    "    return dict\n",
    "\n",
    "def insert_code_to_programs(daily_programs):\n",
    "    missing_dict = {}\n",
    "    insert_programs_query = \"INSERT INTO programs (name, stream_id) VALUES (%s, %s)\"\n",
    "\n",
    "    for stream in daily_programs:\n",
    "        try:\n",
    "            missing = set()\n",
    "            select_programs_query = f\"\"\"SELECT * FROM programs WHERE stream_id={stream}\"\"\"\n",
    "            df = db4.select(select_programs_query)\n",
    "\n",
    "            for _, program_name in daily_programs[stream].items():\n",
    "                if not any(program_name == record['name'] for record in df):\n",
    "                    missing.add(program_name)\n",
    "\n",
    "            missing_dict[stream] = missing\n",
    "        except Exception as e:\n",
    "            print(f\"Error processing stream {stream}: {e}\")\n",
    "            continue\n",
    "\n",
    "        try:\n",
    "            for program_name in missing:\n",
    "                db4.insert(insert_programs_query, (program_name, stream))\n",
    "        except Exception as e:\n",
    "            print(f\"Error inserting program '{program_name}' for stream {stream}: {e}\")\n",
    "\n",
    "    return missing_dict\n",
    "\n",
    "def insert_code_to_tv_schedules(daily_programs):\n",
    "    todays_date = datetime.now().date()\n",
    "    target_date = todays_date.strftime('%Y-%m-%d')\n",
    "\n",
    "    for stream in daily_programs:\n",
    "        try:\n",
    "            # Check if data already exists for the stream today\n",
    "\n",
    "            for start_time, program_name in daily_programs[stream].items():\n",
    "                try:\n",
    "                    start_datetime = datetime.strptime(f'{target_date} {start_time}', '%Y-%m-%d %H:%M')\n",
    "\n",
    "                    insert_schedules = \"\"\"\n",
    "                        INSERT INTO tv_schedules (start_time, program_id, stream_id)\n",
    "                        SELECT \n",
    "                            %s AS start_time, p.id AS program_id, %s AS stream_id\n",
    "                        FROM programs p\n",
    "                        WHERE p.name = %s\n",
    "                        LIMIT 1;\n",
    "                    \"\"\"\n",
    "\n",
    "                    values = (start_datetime, stream, program_name)\n",
    "                    db4.insert(insert_schedules, values)\n",
    "                except Exception as e:\n",
    "                    print(f\"Error inserting program '{program_name}' for stream {stream} at {start_time}: {e}\")\n",
    "        except Exception as e:\n",
    "            print(f\"Error processing stream {stream}: {e}\")"
   ]
  },
  {
   "cell_type": "code",
   "execution_count": 28,
   "metadata": {},
   "outputs": [
    {
     "name": "stdout",
     "output_type": "stream",
     "text": [
      "Connection to the PostgreSQL database\n",
      "Connection to the PostgreSQL database\n",
      "Connection to the PostgreSQL database\n",
      "Connection to the PostgreSQL database\n",
      "Connection to the PostgreSQL database\n",
      "Connection to the PostgreSQL database\n",
      "Connection to the PostgreSQL database\n",
      "Connection to the PostgreSQL database\n",
      "Connection to the PostgreSQL database\n",
      "Connection to the PostgreSQL database\n",
      "Connection to the PostgreSQL database\n",
      "Connection to the PostgreSQL database\n",
      "Connection to the PostgreSQL database\n",
      "Connection to the PostgreSQL database\n",
      "Connection to the PostgreSQL database\n"
     ]
    }
   ],
   "source": [
    "# try:\n",
    "#     for i in daily_programs:\n",
    "#         daily_programs[i]= clean_dict(daily_programs[i])\n",
    "# except ValueError as e:\n",
    "#     print(e)\n",
    "    \n",
    "# missing_dict=insert_code_to_programs(daily_programs) \n",
    "\n",
    "insert_code_to_tv_schedules(daily_programs)"
   ]
  },
  {
   "cell_type": "code",
   "execution_count": 22,
   "metadata": {},
   "outputs": [
    {
     "data": {
      "text/plain": [
       "{'36': {'02:00': 'İtaliya A Seriyası, 14-cü tur: Udineze – Cenoa',\n",
       "  '05:00': 'İtaliya A Seriyası, 14-cü tur: Fiorentina – İnter',\n",
       "  '09:30': 'CBC Sport İnfo (canlı)',\n",
       "  '10:00': 'Ay həkim (premyera)',\n",
       "  '12:00': 'CBC Sport İnfo (canlı)',\n",
       "  '12:30': 'Start (canlı)',\n",
       "  '13:30': 'İtaliya A Seriyası, 14-cü turun oyunlarının icmalı (yeni)',\n",
       "  '14:30': 'CBC Sport İnfo (canlı)',\n",
       "  '15:00': 'Futbol, Azərbaycan Kuboku, 1/8 final',\n",
       "  '17:00': 'CBC Sport İnfo (canlı)',\n",
       "  '18:00': 'Futbol, Azərbaycan Kuboku, 1/8 final',\n",
       "  '20:00': 'Misli vaxtı (yeni)',\n",
       "  '20:15': 'Misli Premyer Liqasının icmalı',\n",
       "  '21:15': 'İtaliya A Seriyası, 14-cü turun oyunlarının icmalı',\n",
       "  '23:45': 'Futbol, Azərbaycan Kuboku, 1/8 final'}}"
      ]
     },
     "execution_count": 22,
     "metadata": {},
     "output_type": "execute_result"
    }
   ],
   "source": [
    "daily_programs"
   ]
  },
  {
   "cell_type": "code",
   "execution_count": 27,
   "metadata": {},
   "outputs": [],
   "source": [
    "import db4\n",
    "from datetime import datetime,timedelta\n"
   ]
  },
  {
   "cell_type": "code",
   "execution_count": 32,
   "metadata": {},
   "outputs": [
    {
     "data": {
      "text/plain": [
       "15"
      ]
     },
     "execution_count": 32,
     "metadata": {},
     "output_type": "execute_result"
    }
   ],
   "source": [
    "len(daily_programs['36'])"
   ]
  },
  {
   "cell_type": "code",
   "execution_count": null,
   "metadata": {},
   "outputs": [],
   "source": []
  }
 ],
 "metadata": {
  "kernelspec": {
   "display_name": "base",
   "language": "python",
   "name": "python3"
  },
  "language_info": {
   "codemirror_mode": {
    "name": "ipython",
    "version": 3
   },
   "file_extension": ".py",
   "mimetype": "text/x-python",
   "name": "python",
   "nbconvert_exporter": "python",
   "pygments_lexer": "ipython3",
   "version": "3.12.4"
  }
 },
 "nbformat": 4,
 "nbformat_minor": 2
}
